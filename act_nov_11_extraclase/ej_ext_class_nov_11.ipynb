{
  "nbformat": 4,
  "nbformat_minor": 0,
  "metadata": {
    "colab": {
      "name": "ej_ext_class_nov_11.ipynb",
      "provenance": [],
      "collapsed_sections": []
    },
    "kernelspec": {
      "name": "python3",
      "display_name": "Python 3"
    },
    "language_info": {
      "name": "python"
    }
  },
  "cells": [
    {
      "cell_type": "markdown",
      "metadata": {
        "id": "1WWWxyecgiwk"
      },
      "source": [
        "\n",
        "\n",
        "\n",
        "*   ***Juan José Sapuyes Pino***\n",
        "*   ***CC. 1152717991***\n",
        "*   ***jsapuyesp@unal.edu.co***\n",
        "\n",
        "\n"
      ]
    },
    {
      "cell_type": "markdown",
      "metadata": {
        "id": "ob4_hVYkoCMr"
      },
      "source": [
        "# *SumaSegundo*"
      ]
    },
    {
      "cell_type": "code",
      "metadata": {
        "id": "2MkhH2Eun1ea"
      },
      "source": [
        "def sumaSegundo(entrada):\n",
        "  linea = entrada.split()\n",
        "  map_linea = map(int, linea)\n",
        "  lista_int = list(map_linea)\n",
        "\n",
        "  if len(lista_int) >= 2:\n",
        "    suma = 0\n",
        "    for i in range(1,len(lista_int),2):\n",
        "      suma += lista_int[i]\n",
        "    return (str(suma))\n",
        "  else:\n",
        "    return 'No se puede realizar la operación porque la lista no contiene suficientes elementos'"
      ],
      "execution_count": 5,
      "outputs": []
    },
    {
      "cell_type": "code",
      "metadata": {
        "colab": {
          "base_uri": "https://localhost:8080/"
        },
        "id": "PQZUfd5_qsrt",
        "outputId": "83da3383-885d-48a4-8586-e58e8943189c"
      },
      "source": [
        "print(sumaSegundo(\"58 41 78 3 25 9\"))"
      ],
      "execution_count": 10,
      "outputs": [
        {
          "output_type": "stream",
          "name": "stdout",
          "text": [
            "53\n"
          ]
        }
      ]
    },
    {
      "cell_type": "code",
      "metadata": {
        "id": "rsGI1Ub7rbCJ"
      },
      "source": [
        "def testSegundo():\n",
        "  values = [\n",
        "            (\"1 3 5 7 9 11\", \"21\"),\n",
        "            (\"\", \"No se puede realizar la operación porque la lista no contiene suficientes elementos\"),\n",
        "            (\"1\", \"No se puede realizar la operación porque la lista no contiene suficientes elementos\"),\n",
        "            (\"1 2\", \"2\")\n",
        "  ]\n",
        "\n",
        "  for (entrada, vEsperado) in values:\n",
        "    res = sumaSegundo(entrada)\n",
        "    print(entrada, ': ', res)\n",
        "    assert res == vEsperado\n",
        "  print(\"Pruebas superadas!\")"
      ],
      "execution_count": 11,
      "outputs": []
    },
    {
      "cell_type": "code",
      "metadata": {
        "colab": {
          "base_uri": "https://localhost:8080/"
        },
        "id": "sPQlCldHsMy8",
        "outputId": "02978168-6058-4bf1-a20b-4c71061c36f7"
      },
      "source": [
        "testSegundo()"
      ],
      "execution_count": 12,
      "outputs": [
        {
          "output_type": "stream",
          "name": "stdout",
          "text": [
            "1 3 5 7 9 11 :  21\n",
            " :  No se puede realizar la operación porque la lista no contiene suficientes elementos\n",
            "1 :  No se puede realizar la operación porque la lista no contiene suficientes elementos\n",
            "1 2 :  2\n",
            "Pruebas superadas!\n"
          ]
        }
      ]
    },
    {
      "cell_type": "markdown",
      "metadata": {
        "id": "8TnFsbapsZ89"
      },
      "source": [
        "# *SumaTercero"
      ]
    },
    {
      "cell_type": "code",
      "metadata": {
        "id": "gWXso-Qnsff2"
      },
      "source": [
        "def sumaTercero(entrada):\n",
        "  linea = entrada.split()\n",
        "  map_linea = map(int, linea)\n",
        "  lista_int = list(map_linea)\n",
        "\n",
        "  if len(lista_int) >= 3:\n",
        "    suma = 0\n",
        "    for i in range(2,len(lista_int),3):\n",
        "      suma += lista_int[i]\n",
        "    return (str(suma))\n",
        "  else:\n",
        "    return 'No se puede realizar la operación porque la lista no contiene suficientes elementos'"
      ],
      "execution_count": 13,
      "outputs": []
    },
    {
      "cell_type": "code",
      "metadata": {
        "colab": {
          "base_uri": "https://localhost:8080/"
        },
        "id": "mWSVSXR9stYX",
        "outputId": "15dc3172-828e-4916-f2cc-e2b368d8d4be"
      },
      "source": [
        "print(sumaTercero(\"58 41 78 3 25 9\"))"
      ],
      "execution_count": 22,
      "outputs": [
        {
          "output_type": "stream",
          "name": "stdout",
          "text": [
            "87\n"
          ]
        }
      ]
    },
    {
      "cell_type": "code",
      "metadata": {
        "id": "fbKMXqNrsyoc"
      },
      "source": [
        "def testTercero():\n",
        "  values = [\n",
        "            (\"1 3 5 7 9 11\", \"16\"),\n",
        "            (\"\", \"No se puede realizar la operación porque la lista no contiene suficientes elementos\"),\n",
        "            (\"1\", \"No se puede realizar la operación porque la lista no contiene suficientes elementos\"),\n",
        "            (\"1 2\", \"No se puede realizar la operación porque la lista no contiene suficientes elementos\")\n",
        "  ]\n",
        "\n",
        "  for (entrada, vEsperado) in values:\n",
        "    res = sumaTercero(entrada)\n",
        "    print(entrada, ': ', res)\n",
        "    assert res == vEsperado\n",
        "  print(\"Pruebas superadas!\")"
      ],
      "execution_count": 17,
      "outputs": []
    },
    {
      "cell_type": "code",
      "metadata": {
        "colab": {
          "base_uri": "https://localhost:8080/"
        },
        "id": "oB2QfyJ8s96T",
        "outputId": "3a9d6af9-cd3f-46a3-ea85-f5b9bcae3d99"
      },
      "source": [
        "testTercero()"
      ],
      "execution_count": 23,
      "outputs": [
        {
          "output_type": "stream",
          "name": "stdout",
          "text": [
            "1 3 5 7 9 11 :  16\n",
            " :  No se puede realizar la operación porque la lista no contiene suficientes elementos\n",
            "1 :  No se puede realizar la operación porque la lista no contiene suficientes elementos\n",
            "1 2 :  No se puede realizar la operación porque la lista no contiene suficientes elementos\n",
            "Pruebas superadas!\n"
          ]
        }
      ]
    },
    {
      "cell_type": "markdown",
      "metadata": {
        "id": "PXeQlhhJtiVn"
      },
      "source": [
        "# *FunciónDecisión*"
      ]
    },
    {
      "cell_type": "code",
      "metadata": {
        "id": "742IRhe3touA"
      },
      "source": [
        "def funcionDecision(entrada):\n",
        "  linea = entrada.split()\n",
        "  map_linea = map(int, linea)\n",
        "  lista_int = list(map_linea)\n",
        "\n",
        "  count2 = 0\n",
        "  count3 = 0\n",
        "\n",
        "  if len(lista_int) >= 3:\n",
        "    for i in range(1,len(lista_int),2):\n",
        "      count2 += lista_int[i]\n",
        "    for j in range(2,len(lista_int),3):\n",
        "      count3 += lista_int[j]\n",
        "  else:\n",
        "    return 'No se puede realizar pruebas'\n",
        "  \n",
        "  if count3 > count2 :\n",
        "    return 'si'\n",
        "  elif count2 > count3:\n",
        "    return 'no'\n",
        "  else:\n",
        "    return 'las sumas son iguales'"
      ],
      "execution_count": 24,
      "outputs": []
    },
    {
      "cell_type": "code",
      "metadata": {
        "colab": {
          "base_uri": "https://localhost:8080/"
        },
        "id": "9__u4H7OwHda",
        "outputId": "8205e66c-ee5e-4d7a-aae7-d42c342588fd"
      },
      "source": [
        "print(funcionDecision(\"\"))"
      ],
      "execution_count": 50,
      "outputs": [
        {
          "output_type": "stream",
          "name": "stdout",
          "text": [
            "No se puede realizar pruebas\n"
          ]
        }
      ]
    },
    {
      "cell_type": "code",
      "metadata": {
        "id": "5SQSawBNwf6h"
      },
      "source": [
        "def testFuncion():\n",
        "  values = [\n",
        "            (\"1 3 5 7 9 11\", \"no\"),\n",
        "            (\"\", \"No se puede realizar pruebas\"),\n",
        "            (\"1\", \"No se puede realizar pruebas\"),\n",
        "            (\"1 2\", \"No se puede realizar pruebas\")\n",
        "  ]\n",
        "\n",
        "  for (entrada, vEsperado) in values:\n",
        "    res = funcionDecision(entrada)\n",
        "    print(entrada, ': ', res)\n",
        "    assert res == vEsperado\n",
        "  print(\"Pruebas superadas!\")"
      ],
      "execution_count": 51,
      "outputs": []
    },
    {
      "cell_type": "code",
      "metadata": {
        "colab": {
          "base_uri": "https://localhost:8080/"
        },
        "id": "MLhI_kU2yaaT",
        "outputId": "962aa8b4-c6e4-49f6-d12c-f04f699ad23d"
      },
      "source": [
        "testFuncion()"
      ],
      "execution_count": 52,
      "outputs": [
        {
          "output_type": "stream",
          "name": "stdout",
          "text": [
            "1 3 5 7 9 11 :  no\n",
            " :  No se puede realizar pruebas\n",
            "1 :  No se puede realizar pruebas\n",
            "1 2 :  No se puede realizar pruebas\n",
            "Pruebas superadas!\n"
          ]
        }
      ]
    },
    {
      "cell_type": "markdown",
      "metadata": {
        "id": "eRvgeBCxydi7"
      },
      "source": [
        "# ***Misma función de decisión pero utilizando las creadas anteriormente***\n"
      ]
    },
    {
      "cell_type": "code",
      "metadata": {
        "id": "P-khNg6yw4YO"
      },
      "source": [
        "def decisionSimple(entrada):\n",
        "  linea = entrada.split()\n",
        "\n",
        "  if len(linea) >= 3:\n",
        "    count2 = int(sumaSegundo(entrada))\n",
        "    count3 = int(sumaTercero(entrada))\n",
        "  else: \n",
        "    return 'No se pueden realizar pruebas'\n",
        "\n",
        "\n",
        "  if count3 > count2:\n",
        "    return 'si'\n",
        "  elif count2 > count3:\n",
        "    return 'no'\n",
        "  else:\n",
        "    return 'Las sumas son iguales'"
      ],
      "execution_count": 56,
      "outputs": []
    },
    {
      "cell_type": "code",
      "metadata": {
        "colab": {
          "base_uri": "https://localhost:8080/"
        },
        "id": "BVSQZMWPxZpN",
        "outputId": "0942975a-0119-4284-9636-d8ce22ab5850"
      },
      "source": [
        "print(decisionSimple(\"1 3 5 2 4 6\"))"
      ],
      "execution_count": 57,
      "outputs": [
        {
          "output_type": "stream",
          "name": "stdout",
          "text": [
            "Las sumas son iguales\n"
          ]
        }
      ]
    },
    {
      "cell_type": "code",
      "metadata": {
        "id": "D2m6hLBQzEdh"
      },
      "source": [
        "def testFuncion2():\n",
        "  values = [\n",
        "            (\"1 3 5 7 9 11\", \"no\"),\n",
        "            (\"\", \"No se pueden realizar pruebas\"),\n",
        "            (\"1\", \"No se pueden realizar pruebas\"),\n",
        "            (\"1 2 3 1\", \"Las sumas son iguales\"),\n",
        "            (\"5 1 10 4\", \"si\")\n",
        "  ]\n",
        "\n",
        "  for (entrada, vEsperado) in values:\n",
        "    res = decisionSimple(entrada)\n",
        "    print(entrada, ': ', res)\n",
        "    assert res == vEsperado\n",
        "  print(\"Pruebas superadas!\")"
      ],
      "execution_count": 65,
      "outputs": []
    },
    {
      "cell_type": "code",
      "metadata": {
        "colab": {
          "base_uri": "https://localhost:8080/"
        },
        "id": "OnPcZVVvzysN",
        "outputId": "ece86242-c357-407d-e52b-6f09ef90632c"
      },
      "source": [
        "testFuncion2()"
      ],
      "execution_count": 66,
      "outputs": [
        {
          "output_type": "stream",
          "name": "stdout",
          "text": [
            "1 3 5 7 9 11 :  no\n",
            " :  No se pueden realizar pruebas\n",
            "1 :  No se pueden realizar pruebas\n",
            "1 2 3 1 :  Las sumas son iguales\n",
            "5 1 10 4 :  si\n",
            "Pruebas superadas!\n"
          ]
        }
      ]
    }
  ]
}