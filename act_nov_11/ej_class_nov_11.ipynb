{
  "nbformat": 4,
  "nbformat_minor": 0,
  "metadata": {
    "colab": {
      "name": "ej_class_nov_11.ipynb",
      "provenance": [],
      "collapsed_sections": []
    },
    "kernelspec": {
      "name": "python3",
      "display_name": "Python 3"
    },
    "language_info": {
      "name": "python"
    }
  },
  "cells": [
    {
      "cell_type": "markdown",
      "metadata": {
        "id": "1WWWxyecgiwk"
      },
      "source": [
        "\n",
        "\n",
        "\n",
        "*   ***Juan José Sapuyes Pino***\n",
        "*   ***CC. 1152717991***\n",
        "*   ***jsapuyesp@unal.edu.co***\n",
        "\n",
        "\n"
      ]
    },
    {
      "cell_type": "markdown",
      "metadata": {
        "id": "LCscsOW4k2JH"
      },
      "source": [
        "# *ContieneGC*"
      ]
    },
    {
      "cell_type": "code",
      "metadata": {
        "id": "En_JcYQ8gdsu"
      },
      "source": [
        "def contieneGC(inString):\n",
        "  if 'GC' in inString:\n",
        "    return 'si'\n",
        "  else:\n",
        "    return 'no'"
      ],
      "execution_count": 1,
      "outputs": []
    },
    {
      "cell_type": "code",
      "metadata": {
        "colab": {
          "base_uri": "https://localhost:8080/"
        },
        "id": "L9qCxlwth-MR",
        "outputId": "62778695-96c1-4779-dfde-a16af7131cd1"
      },
      "source": [
        "print(contieneGC('ATGCATTA'))\n",
        "print(contieneGC('ATGACATTA'))"
      ],
      "execution_count": 2,
      "outputs": [
        {
          "output_type": "stream",
          "name": "stdout",
          "text": [
            "si\n",
            "no\n"
          ]
        }
      ]
    },
    {
      "cell_type": "code",
      "metadata": {
        "id": "b2c-SrBwiQhD"
      },
      "source": [
        "def testGC():\n",
        "  test = [\n",
        "           ('ATGCATTA', 'si'),\n",
        "           ('CCCGAGA', 'no'),\n",
        "           ('AGAGAGAGAGAGAGAGAAAGAGAGAAGAGAGAAG', 'no'),\n",
        "           ('GAGACCCGCC', 'si'),\n",
        "           ('', 'no'),\n",
        "           ('CCCCCCCCCCCCCCCCGAGTTTTT', 'no')\n",
        "  ]\n",
        "  for (inString, vEsperado) in test:\n",
        "    res = contieneGC(inString)\n",
        "    print(inString, ': ', res)\n",
        "    assert res == vEsperado\n",
        "  print('Pruebas superadas!')\n",
        "\n"
      ],
      "execution_count": 13,
      "outputs": []
    },
    {
      "cell_type": "code",
      "metadata": {
        "colab": {
          "base_uri": "https://localhost:8080/"
        },
        "id": "AktSrn9ykbBu",
        "outputId": "eb7ec06c-b6db-4309-8f78-505b8a52663b"
      },
      "source": [
        "testGC()"
      ],
      "execution_count": 14,
      "outputs": [
        {
          "output_type": "stream",
          "name": "stdout",
          "text": [
            "ATGCATTA :  si\n",
            "CCCGAGA :  no\n",
            "AGAGAGAGAGAGAGAGAAAGAGAGAAGAGAGAAG :  no\n",
            "GAGACCCGCC :  si\n",
            " :  no\n",
            "CCCCCCCCCCCCCCCCGAGTTTTT :  no\n",
            "Pruebas superadas!\n"
          ]
        }
      ]
    },
    {
      "cell_type": "markdown",
      "metadata": {
        "id": "TEHWEA-Fk75-"
      },
      "source": [
        "# *Multiplicalos*"
      ]
    },
    {
      "cell_type": "code",
      "metadata": {
        "id": "Bh8tGzQolUYP"
      },
      "source": [
        "def multiplicalos(entrada):\n",
        "  linea = entrada.split()\n",
        "  map_linea = map(int, linea)\n",
        "  lista_int = list(map_linea)\n",
        "\n",
        "  producto = 1\n",
        "  for i in lista_int:\n",
        "    producto = producto*i\n",
        "  \n",
        "  return str(producto)"
      ],
      "execution_count": 21,
      "outputs": []
    },
    {
      "cell_type": "code",
      "metadata": {
        "colab": {
          "base_uri": "https://localhost:8080/"
        },
        "id": "qwf0hy8cmEGx",
        "outputId": "5ef8f046-ec0d-487e-e0bd-d65de3b0f933"
      },
      "source": [
        "print(multiplicalos(\"1 2 5 10\"))"
      ],
      "execution_count": 22,
      "outputs": [
        {
          "output_type": "stream",
          "name": "stdout",
          "text": [
            "100\n"
          ]
        }
      ]
    }
  ]
}